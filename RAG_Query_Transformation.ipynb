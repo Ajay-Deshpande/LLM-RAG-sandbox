{
  "cells": [
    {
      "cell_type": "code",
      "execution_count": null,
      "id": "df89be8f-2c49-4f4f-9503-2bff0b08a67a",
      "metadata": {
        "id": "df89be8f-2c49-4f4f-9503-2bff0b08a67a"
      },
      "outputs": [],
      "source": [
        "! pip install langchain_community tiktoken langchain-google-genai langchainhub chromadb langchain langchain-huggingface"
      ]
    },
    {
      "cell_type": "code",
      "execution_count": null,
      "id": "5258de38-0cc0-4d9d-a5ca-6e750ebe6976",
      "metadata": {
        "id": "5258de38-0cc0-4d9d-a5ca-6e750ebe6976"
      },
      "outputs": [],
      "source": [
        "import os\n",
        "os.environ['LANGCHAIN_TRACING_V2'] = 'true'\n",
        "os.environ['LANGCHAIN_ENDPOINT'] = 'https://api.smith.langchain.com'\n",
        "os.environ['LANGSMITH_PROJECT'] = \"langsmith_project_MY_FIRST_RAG_EVER\"\n",
        "os.environ['LANGCHAIN_API_KEY'] = \"\""
      ]
    },
    {
      "cell_type": "code",
      "execution_count": null,
      "id": "1cd6453b-2721-491c-b979-1860d58d8cf5",
      "metadata": {
        "id": "1cd6453b-2721-491c-b979-1860d58d8cf5"
      },
      "outputs": [],
      "source": [
        "os.environ[\"GOOGLE_API_KEY\"] = \"\""
      ]
    },
    {
      "cell_type": "code",
      "execution_count": 3,
      "id": "9d1b6e2b-dd76-410d-b870-23e02564a665",
      "metadata": {
        "colab": {
          "base_uri": "https://localhost:8080/"
        },
        "id": "9d1b6e2b-dd76-410d-b870-23e02564a665",
        "outputId": "7fbb299b-4646-4088-928b-f1bb65bd5436"
      },
      "outputs": [
        {
          "name": "stderr",
          "output_type": "stream",
          "text": [
            "WARNING:langchain_community.utils.user_agent:USER_AGENT environment variable not set, consider setting it to identify your requests.\n",
            "/usr/local/lib/python3.11/dist-packages/huggingface_hub/utils/_auth.py:94: UserWarning: \n",
            "The secret `HF_TOKEN` does not exist in your Colab secrets.\n",
            "To authenticate with the Hugging Face Hub, create a token in your settings tab (https://huggingface.co/settings/tokens), set it as secret in your Google Colab and restart your session.\n",
            "You will be able to reuse this secret in all of your notebooks.\n",
            "Please note that authentication is recommended but still optional to access public models or datasets.\n",
            "  warnings.warn(\n"
          ]
        }
      ],
      "source": [
        "#### INDEXING ####\n",
        "\n",
        "# Load blog\n",
        "import bs4\n",
        "from langchain import hub\n",
        "from langchain_core.prompts import ChatPromptTemplate, FewShotChatMessagePromptTemplate\n",
        "from langchain_community.document_loaders import WebBaseLoader\n",
        "from langchain.text_splitter import RecursiveCharacterTextSplitter\n",
        "from langchain_huggingface import HuggingFaceEmbeddings\n",
        "from langchain_community.vectorstores import Chroma\n",
        "from langchain.prompts import ChatPromptTemplate\n",
        "from langchain_core.runnables import RunnablePassthrough, RunnableLambda\n",
        "from langchain_core.output_parsers import StrOutputParser\n",
        "from langchain_google_genai import ChatGoogleGenerativeAI\n",
        "from langchain.load import dumps, loads\n",
        "from operator import itemgetter\n",
        "\n",
        "\n",
        "loader = WebBaseLoader(\n",
        "    web_paths=(\"https://lilianweng.github.io/posts/2023-06-23-agent/\",),\n",
        "    bs_kwargs=dict(\n",
        "        parse_only=bs4.SoupStrainer(\n",
        "            class_=(\"post-content\", \"post-title\", \"post-header\")\n",
        "        )\n",
        "    ),\n",
        ")\n",
        "blog_docs = loader.load()\n",
        "\n",
        "# Split\n",
        "text_splitter = RecursiveCharacterTextSplitter.from_tiktoken_encoder(\n",
        "    chunk_size=300,\n",
        "    chunk_overlap=50)\n",
        "\n",
        "# Make splits\n",
        "splits = text_splitter.split_documents(blog_docs)\n",
        "\n",
        "# Index\n",
        "\n",
        "vectorstore = Chroma.from_documents(documents=splits,\n",
        "                                    embedding=HuggingFaceEmbeddings(model_name = \"sentence-transformers/all-mpnet-base-v2\"))\n",
        "\n",
        "retriever = vectorstore.as_retriever()"
      ]
    },
    {
      "cell_type": "code",
      "execution_count": 4,
      "id": "965de464-0c98-4318-9f9e-f8a597c8d5d6",
      "metadata": {
        "id": "965de464-0c98-4318-9f9e-f8a597c8d5d6"
      },
      "outputs": [],
      "source": [
        "# Multi Query: Different Perspectives\n",
        "template = \"\"\"You are an AI language model assistant. Your task is to generate five\n",
        "different versions of the given user question to retrieve relevant documents from a vector\n",
        "database. By generating multiple perspectives on the user question, your goal is to help\n",
        "the user overcome some of the limitations of the distance-based similarity search.\n",
        "Provide these alternative questions separated by newlines. Original question: {question}\"\"\"\n",
        "prompt_perspectives = ChatPromptTemplate.from_template(template)\n",
        "\n",
        "\n",
        "generate_queries = (\n",
        "    prompt_perspectives\n",
        "    | ChatGoogleGenerativeAI(model = \"gemini-1.5-pro\", temperature=0)\n",
        "    | StrOutputParser()\n",
        "    | (lambda x: x.split(\"\\n\"))\n",
        ")"
      ]
    },
    {
      "cell_type": "code",
      "execution_count": 5,
      "id": "4f253520-386f-434b-8daa-d6dadb89eddb",
      "metadata": {
        "colab": {
          "base_uri": "https://localhost:8080/"
        },
        "id": "4f253520-386f-434b-8daa-d6dadb89eddb",
        "outputId": "f6a6eda3-0c39-4c57-c9fb-f91159a63da2"
      },
      "outputs": [
        {
          "name": "stderr",
          "output_type": "stream",
          "text": [
            "<ipython-input-5-ace9fd6455cb>:8: LangChainBetaWarning: The function `loads` is in beta. It is actively being worked on, so the API may change.\n",
            "  return [loads(doc) for doc in unique_docs]\n"
          ]
        },
        {
          "data": {
            "text/plain": [
              "11"
            ]
          },
          "execution_count": 5,
          "metadata": {},
          "output_type": "execute_result"
        }
      ],
      "source": [
        "def get_unique_union(documents: list[list]):\n",
        "    \"\"\" Unique union of retrieved docs \"\"\"\n",
        "    # Flatten list of lists, and convert each Document to string\n",
        "    flattened_docs = [dumps(doc) for sublist in documents for doc in sublist]\n",
        "    # Get unique documents\n",
        "    unique_docs = list(set(flattened_docs))\n",
        "    # Return\n",
        "    return [loads(doc) for doc in unique_docs]\n",
        "\n",
        "# Retrieve\n",
        "question = \"What is task decomposition for LLM agents?\"\n",
        "retrieval_chain = generate_queries | retriever.map() | get_unique_union\n",
        "docs = retrieval_chain.invoke({\"question\":question})\n",
        "len(docs)"
      ]
    },
    {
      "cell_type": "code",
      "execution_count": 7,
      "id": "af6e74e8-ddae-4165-9e4b-0022ac125194",
      "metadata": {
        "colab": {
          "base_uri": "https://localhost:8080/",
          "height": 105
        },
        "id": "af6e74e8-ddae-4165-9e4b-0022ac125194",
        "outputId": "14dd34ea-eb7b-4f59-a3b9-e18de307890f"
      },
      "outputs": [
        {
          "data": {
            "application/vnd.google.colaboratory.intrinsic+json": {
              "type": "string"
            },
            "text/plain": [
              "'Task decomposition is the process of breaking down a complex task into smaller, more manageable subtasks.  For LLM agents, this is a crucial step in planning and problem-solving.  The article mentions several approaches to task decomposition:\\n\\n1. **Chain of Thought (CoT) prompting:** Instructing the LLM to \"think step by step,\" which helps it decompose the task into smaller, simpler steps.\\n2. **Tree of Thoughts:** An extension of CoT that explores multiple reasoning possibilities at each step, creating a tree-like structure of potential solutions.\\n3. **Simple prompting:** Using prompts like \"Steps for XYZ.\\\\n1.\" or \"What are the subgoals for achieving XYZ?\"\\n4. **Task-specific instructions:**  Providing instructions tailored to the specific task, such as \"Write a story outline\" for writing a novel.\\n5. **Human input:**  A human can manually decompose the task into subtasks for the LLM.'"
            ]
          },
          "execution_count": 7,
          "metadata": {},
          "output_type": "execute_result"
        }
      ],
      "source": [
        "\n",
        "# RAG\n",
        "template = \"\"\"Answer the following question based on this context:\n",
        "\n",
        "{context}\n",
        "\n",
        "Question: {question}\n",
        "\"\"\"\n",
        "\n",
        "prompt = ChatPromptTemplate.from_template(template)\n",
        "\n",
        "llm = ChatGoogleGenerativeAI(model=\"gemini-1.5-pro\", temperature=0)\n",
        "\n",
        "final_rag_chain = (\n",
        "    {\"context\": retrieval_chain,\n",
        "     \"question\": itemgetter(\"question\")}\n",
        "    | prompt\n",
        "    | llm\n",
        "    | StrOutputParser()\n",
        ")\n",
        "\n",
        "final_rag_chain.invoke({\"question\":question})"
      ]
    },
    {
      "cell_type": "code",
      "execution_count": 6,
      "id": "34e7075b-b80d-461d-9e2e-e05e29436f3e",
      "metadata": {
        "id": "34e7075b-b80d-461d-9e2e-e05e29436f3e"
      },
      "outputs": [],
      "source": [
        "# RAG-Fusion: Related\n",
        "template = \"\"\"You are a helpful assistant that generates multiple search queries based on a single input query. \\n\n",
        "Generate multiple search queries related to: {question} \\n\n",
        "Output (4 queries):\"\"\"\n",
        "prompt_rag_fusion = ChatPromptTemplate.from_template(template)"
      ]
    },
    {
      "cell_type": "code",
      "execution_count": 13,
      "id": "9781b40c-c408-42f4-ae14-cd11be513b63",
      "metadata": {
        "id": "9781b40c-c408-42f4-ae14-cd11be513b63"
      },
      "outputs": [],
      "source": [
        "generate_queries = (\n",
        "    prompt_rag_fusion\n",
        "    | ChatGoogleGenerativeAI(model = \"gemini-1.5-flash\", temperature=0)\n",
        "    | StrOutputParser()\n",
        "    | (lambda x: x.split(\"\\n\"))\n",
        ")"
      ]
    },
    {
      "cell_type": "code",
      "execution_count": 14,
      "id": "2b1adff1-e993-4747-b95d-656eaaeccfdd",
      "metadata": {
        "colab": {
          "base_uri": "https://localhost:8080/"
        },
        "id": "2b1adff1-e993-4747-b95d-656eaaeccfdd",
        "outputId": "4c87224c-49c3-4d3d-abcd-c00fc85b0900"
      },
      "outputs": [
        {
          "data": {
            "text/plain": [
              "6"
            ]
          },
          "execution_count": 14,
          "metadata": {},
          "output_type": "execute_result"
        }
      ],
      "source": [
        "def reciprocal_rank_fusion(results: list[list], k=60):\n",
        "    \"\"\" Reciprocal_rank_fusion that takes multiple lists of ranked documents\n",
        "        and an optional parameter k used in the RRF formula \"\"\"\n",
        "\n",
        "    # Initialize a dictionary to hold fused scores for each unique document\n",
        "    fused_scores = {}\n",
        "\n",
        "    # Iterate through each list of ranked documents\n",
        "    for docs in results:\n",
        "        # Iterate through each document in the list, with its rank (position in the list)\n",
        "        for rank, doc in enumerate(docs):\n",
        "            # Convert the document to a string format to use as a key (assumes documents can be serialized to JSON)\n",
        "            doc_str = dumps(doc)\n",
        "            # If the document is not yet in the fused_scores dictionary, add it with an initial score of 0\n",
        "            if doc_str not in fused_scores:\n",
        "                fused_scores[doc_str] = 0\n",
        "            # Retrieve the current score of the document, if any\n",
        "            previous_score = fused_scores[doc_str]\n",
        "            # Update the score of the document using the RRF formula: 1 / (rank + k)\n",
        "            fused_scores[doc_str] += 1 / (rank + k)\n",
        "\n",
        "    # Sort the documents based on their fused scores in descending order to get the final reranked results\n",
        "    reranked_results = [\n",
        "        (loads(doc), score)\n",
        "        for doc, score in sorted(fused_scores.items(), key=lambda x: x[1], reverse=True)\n",
        "    ]\n",
        "\n",
        "    # Return the reranked results as a list of tuples, each containing the document and its fused score\n",
        "    return reranked_results\n",
        "\n",
        "retrieval_chain_rag_fusion = generate_queries | retriever.map() | reciprocal_rank_fusion\n",
        "docs = retrieval_chain_rag_fusion.invoke({\"question\": question})\n",
        "len(docs)"
      ]
    },
    {
      "cell_type": "code",
      "execution_count": 15,
      "id": "ce2adf2d-3d9f-4d43-afb0-8304edcfb1f1",
      "metadata": {
        "colab": {
          "base_uri": "https://localhost:8080/",
          "height": 105
        },
        "id": "ce2adf2d-3d9f-4d43-afb0-8304edcfb1f1",
        "outputId": "ba8e7a7b-2464-46c2-afac-a74544c89787"
      },
      "outputs": [
        {
          "data": {
            "application/vnd.google.colaboratory.intrinsic+json": {
              "type": "string"
            },
            "text/plain": [
              "'Task decomposition is the process of breaking down a complex task into smaller, more manageable subgoals.  For LLM agents, this is crucial for effective planning and execution.  LLMs can achieve task decomposition through various methods:\\n\\n1. **Simple prompting:**  Instructions like \"Steps for XYZ:\\\\n1.\" or \"What are the subgoals for achieving XYZ?\" can guide the LLM to break down the task.\\n2. **Task-specific instructions:**  Prompts tailored to the task, such as \"Write a story outline\" for novel writing, can elicit a decomposition relevant to the specific domain.\\n3. **Human input:**  Users can provide explicit decomposition steps to the LLM.\\n\\nTwo prominent techniques related to task decomposition are:\\n\\n* **Chain of Thought (CoT):**  Prompting the model to \"think step by step,\" decomposing the task into smaller, simpler steps, and providing insights into the model\\'s reasoning process.\\n* **Tree of Thoughts (ToT):**  Extending CoT by exploring multiple reasoning possibilities at each step, creating a tree-like structure of potential solutions, and evaluating them through methods like breadth-first search (BFS), depth-first search (DFS), or voting mechanisms.'"
            ]
          },
          "execution_count": 15,
          "metadata": {},
          "output_type": "execute_result"
        }
      ],
      "source": [
        "# RAG\n",
        "template = \"\"\"Answer the following question based on this context:\n",
        "\n",
        "{context}\n",
        "\n",
        "Question: {question}\n",
        "\"\"\"\n",
        "\n",
        "prompt = ChatPromptTemplate.from_template(template)\n",
        "\n",
        "final_rag_chain = (\n",
        "    {\"context\": retrieval_chain_rag_fusion,\n",
        "     \"question\": itemgetter(\"question\")}\n",
        "    | prompt\n",
        "    | llm\n",
        "    | StrOutputParser()\n",
        ")\n",
        "\n",
        "final_rag_chain.invoke({\"question\":question})"
      ]
    },
    {
      "cell_type": "markdown",
      "id": "94c812d3-4d91-4634-8301-0b68be88a887",
      "metadata": {
        "id": "94c812d3-4d91-4634-8301-0b68be88a887"
      },
      "source": [
        "## Part 7: Decomposition"
      ]
    },
    {
      "cell_type": "code",
      "execution_count": 16,
      "id": "f82fac99-58dc-4bb9-84e6-51180db855ad",
      "metadata": {
        "id": "f82fac99-58dc-4bb9-84e6-51180db855ad"
      },
      "outputs": [],
      "source": [
        "# Decomposition\n",
        "template = \"\"\"You are a helpful assistant that generates multiple sub-questions related to an input question. \\n\n",
        "The goal is to break down the input into a set of sub-problems / sub-questions that can be answers in isolation. \\n\n",
        "Generate multiple search queries related to: {question} \\n\n",
        "Output (3 queries):\"\"\"\n",
        "prompt_decomposition = ChatPromptTemplate.from_template(template)"
      ]
    },
    {
      "cell_type": "code",
      "execution_count": 19,
      "id": "c31eefd9-5598-44a1-b0d6-dd04553a3eb4",
      "metadata": {
        "id": "c31eefd9-5598-44a1-b0d6-dd04553a3eb4"
      },
      "outputs": [],
      "source": [
        "# LLM\n",
        "llm = ChatGoogleGenerativeAI(model = 'gemini-1.0-pro', temperature=0)\n",
        "\n",
        "# Chain\n",
        "generate_queries_decomposition = ( prompt_decomposition | llm | StrOutputParser() | (lambda x: x.split(\"\\n\")))\n",
        "\n",
        "# Run\n",
        "question = \"What are the main components of an LLM-powered autonomous agent system?\"\n",
        "questions = generate_queries_decomposition.invoke({\"question\":question})"
      ]
    },
    {
      "cell_type": "code",
      "execution_count": 20,
      "id": "07191b5c-cf72-4b8f-a225-f57dfdc2fc78",
      "metadata": {
        "colab": {
          "base_uri": "https://localhost:8080/"
        },
        "id": "07191b5c-cf72-4b8f-a225-f57dfdc2fc78",
        "outputId": "bccc84db-9563-4e47-b96a-1b6c201814ea"
      },
      "outputs": [
        {
          "data": {
            "text/plain": [
              "['1. What are the core components of an LLM-powered autonomous agent system?',\n",
              " '2. How do LLMs contribute to the decision-making process in autonomous agents?',\n",
              " '3. What are the key challenges in integrating LLMs into autonomous agent systems?']"
            ]
          },
          "execution_count": 20,
          "metadata": {},
          "output_type": "execute_result"
        }
      ],
      "source": [
        "questions"
      ]
    },
    {
      "cell_type": "code",
      "execution_count": 21,
      "id": "c72bbd12-f85c-4ed0-9dfa-8503afebfafa",
      "metadata": {
        "id": "c72bbd12-f85c-4ed0-9dfa-8503afebfafa"
      },
      "outputs": [],
      "source": [
        "# Prompt\n",
        "template = \"\"\"Here is the question you need to answer:\n",
        "\n",
        "\\n --- \\n {question} \\n --- \\n\n",
        "\n",
        "Here is any available background question + answer pairs:\n",
        "\n",
        "\\n --- \\n {q_a_pairs} \\n --- \\n\n",
        "\n",
        "Here is additional context relevant to the question:\n",
        "\n",
        "\\n --- \\n {context} \\n --- \\n\n",
        "\n",
        "Use the above context and any background question + answer pairs to answer the question: \\n {question}\n",
        "\"\"\"\n",
        "\n",
        "decomposition_prompt = ChatPromptTemplate.from_template(template)"
      ]
    },
    {
      "cell_type": "code",
      "execution_count": 22,
      "id": "a20bf0d4-f567-4451-834d-a07190a3185e",
      "metadata": {
        "id": "a20bf0d4-f567-4451-834d-a07190a3185e"
      },
      "outputs": [],
      "source": [
        "def format_qa_pair(question, answer):\n",
        "    \"\"\"Format Q and A pair\"\"\"\n",
        "\n",
        "    formatted_string = \"\"\n",
        "    formatted_string += f\"Question: {question}\\nAnswer: {answer}\\n\\n\"\n",
        "    return formatted_string.strip()\n",
        "\n",
        "# llm\n",
        "llm = ChatGoogleGenerativeAI(model = \"gemini-1.0-pro\", temperature=0)\n",
        "\n",
        "q_a_pairs = \"\"\n",
        "for q in questions:\n",
        "\n",
        "    rag_chain = (\n",
        "    {\"context\": itemgetter(\"question\") | retriever,\n",
        "     \"question\": itemgetter(\"question\"),\n",
        "     \"q_a_pairs\": itemgetter(\"q_a_pairs\")}\n",
        "    | decomposition_prompt\n",
        "    | llm\n",
        "    | StrOutputParser())\n",
        "\n",
        "    answer = rag_chain.invoke({\"question\":q,\"q_a_pairs\":q_a_pairs})\n",
        "    q_a_pair = format_qa_pair(q,answer)\n",
        "    q_a_pairs = q_a_pairs + \"\\n---\\n\"+  q_a_pair"
      ]
    },
    {
      "cell_type": "code",
      "execution_count": 23,
      "id": "e6070fea-ffcf-49ca-ac99-7d7ed2744d40",
      "metadata": {
        "colab": {
          "base_uri": "https://localhost:8080/",
          "height": 87
        },
        "id": "e6070fea-ffcf-49ca-ac99-7d7ed2744d40",
        "outputId": "bf30361f-de5a-406c-9bff-cc198302fc30"
      },
      "outputs": [
        {
          "data": {
            "application/vnd.google.colaboratory.intrinsic+json": {
              "type": "string"
            },
            "text/plain": [
              "'1. **Finite context length:** LLMs have a limited context capacity, which can make it difficult to integrate them into autonomous agent systems that require access to a large amount of historical information or detailed instructions.\\n2. **Challenges in long-term planning and task decomposition:** LLMs can struggle to plan over a lengthy history and effectively explore the solution space. This can make them less robust compared to humans who learn from trial and error.\\n3. **Reliability of natural language interface:** Current agent systems rely on natural language as an interface between LLMs and external components such as memory and tools. However, the reliability of model outputs is questionable, as LLMs may make formatting errors and occasionally exhibit rebellious behavior (e.g. refuse to follow an instruction).'"
            ]
          },
          "execution_count": 23,
          "metadata": {},
          "output_type": "execute_result"
        }
      ],
      "source": [
        "answer"
      ]
    },
    {
      "cell_type": "code",
      "execution_count": 24,
      "id": "297425fa-975b-4599-9b9e-a11139b99140",
      "metadata": {
        "colab": {
          "base_uri": "https://localhost:8080/"
        },
        "id": "297425fa-975b-4599-9b9e-a11139b99140",
        "outputId": "62cb9d96-5a03-425c-bc76-a6a80311cbd5"
      },
      "outputs": [
        {
          "name": "stderr",
          "output_type": "stream",
          "text": [
            "<ipython-input-24-b102bf06ba4a>:16: LangChainDeprecationWarning: The method `BaseRetriever.get_relevant_documents` was deprecated in langchain-core 0.1.46 and will be removed in 1.0. Use :meth:`~invoke` instead.\n",
            "  retrieved_docs = retriever.get_relevant_documents(sub_question)\n"
          ]
        }
      ],
      "source": [
        "# RAG prompt\n",
        "prompt_rag = hub.pull(\"rlm/rag-prompt\")\n",
        "\n",
        "def retrieve_and_rag(question,prompt_rag,sub_question_generator_chain):\n",
        "    \"\"\"RAG on each sub-question\"\"\"\n",
        "\n",
        "    # Use our decomposition /\n",
        "    sub_questions = sub_question_generator_chain.invoke({\"question\":question})\n",
        "\n",
        "    # Initialize a list to hold RAG chain results\n",
        "    rag_results = []\n",
        "\n",
        "    for sub_question in sub_questions:\n",
        "\n",
        "        # Retrieve documents for each sub-question\n",
        "        retrieved_docs = retriever.get_relevant_documents(sub_question)\n",
        "\n",
        "        # Use retrieved documents and sub-question in RAG chain\n",
        "        answer = (prompt_rag | llm | StrOutputParser()).invoke({\"context\": retrieved_docs,\n",
        "                                                                \"question\": sub_question})\n",
        "        rag_results.append(answer)\n",
        "\n",
        "    return rag_results,sub_questions\n",
        "\n",
        "# Wrap the retrieval and RAG process in a RunnableLambda for integration into a chain\n",
        "answers, questions = retrieve_and_rag(question, prompt_rag, generate_queries_decomposition)"
      ]
    },
    {
      "cell_type": "code",
      "execution_count": 25,
      "id": "b8631dda-bbcd-437c-81b3-5db7abb831f9",
      "metadata": {
        "colab": {
          "base_uri": "https://localhost:8080/",
          "height": 53
        },
        "id": "b8631dda-bbcd-437c-81b3-5db7abb831f9",
        "outputId": "63572513-de4e-495c-d6e8-71fdf2c91a76"
      },
      "outputs": [
        {
          "data": {
            "application/vnd.google.colaboratory.intrinsic+json": {
              "type": "string"
            },
            "text/plain": [
              "\"The main components of an LLM-powered autonomous agent system are planning, memory, and execution. Planning involves breaking down large tasks into smaller, manageable subgoals and reflecting on past actions to refine future steps. Memory stores information about the agent's past experiences and the current state of the world. Execution involves carrying out the agent's plans and interacting with the environment.\""
            ]
          },
          "execution_count": 25,
          "metadata": {},
          "output_type": "execute_result"
        }
      ],
      "source": [
        "def format_qa_pairs(questions, answers):\n",
        "    \"\"\"Format Q and A pairs\"\"\"\n",
        "\n",
        "    formatted_string = \"\"\n",
        "    for i, (question, answer) in enumerate(zip(questions, answers), start=1):\n",
        "        formatted_string += f\"Question {i}: {question}\\nAnswer {i}: {answer}\\n\\n\"\n",
        "    return formatted_string.strip()\n",
        "\n",
        "context = format_qa_pairs(questions, answers)\n",
        "\n",
        "# Prompt\n",
        "template = \"\"\"Here is a set of Q+A pairs:\n",
        "\n",
        "{context}\n",
        "\n",
        "Use these to synthesize an answer to the question: {question}\n",
        "\"\"\"\n",
        "\n",
        "prompt = ChatPromptTemplate.from_template(template)\n",
        "\n",
        "final_rag_chain = (\n",
        "    prompt\n",
        "    | llm\n",
        "    | StrOutputParser()\n",
        ")\n",
        "\n",
        "final_rag_chain.invoke({\"context\":context,\"question\":question})"
      ]
    },
    {
      "cell_type": "code",
      "execution_count": 26,
      "id": "1d74f9f2-543d-4e41-b90b-7bb527eca1d9",
      "metadata": {
        "id": "1d74f9f2-543d-4e41-b90b-7bb527eca1d9"
      },
      "outputs": [],
      "source": [
        "# Few Shot Examples\n",
        "examples = [\n",
        "    {\n",
        "        \"input\": \"Could the members of The Police perform lawful arrests?\",\n",
        "        \"output\": \"what can the members of The Police do?\",\n",
        "    },\n",
        "    {\n",
        "        \"input\": \"Jan Sindel’s was born in what country?\",\n",
        "        \"output\": \"what is Jan Sindel’s personal history?\",\n",
        "    },\n",
        "]\n",
        "# We now transform these to example messages\n",
        "example_prompt = ChatPromptTemplate.from_messages(\n",
        "    [\n",
        "        (\"human\", \"{input}\"),\n",
        "        (\"ai\", \"{output}\"),\n",
        "    ]\n",
        ")\n",
        "few_shot_prompt = FewShotChatMessagePromptTemplate(\n",
        "    example_prompt=example_prompt,\n",
        "    examples=examples,\n",
        ")\n",
        "prompt = ChatPromptTemplate.from_messages(\n",
        "    [\n",
        "        (\n",
        "            \"system\",\n",
        "            \"\"\"You are an expert at world knowledge. Your task is to step back and paraphrase a question to a more generic step-back question, which is easier to answer. Here are a few examples:\"\"\",\n",
        "        ),\n",
        "        # Few shot examples\n",
        "        few_shot_prompt,\n",
        "        # New question\n",
        "        (\"user\", \"{question}\"),\n",
        "    ]\n",
        ")"
      ]
    },
    {
      "cell_type": "code",
      "execution_count": 28,
      "id": "5cba100d-167f-4392-8f58-88729d3e4ce9",
      "metadata": {
        "colab": {
          "base_uri": "https://localhost:8080/",
          "height": 35
        },
        "id": "5cba100d-167f-4392-8f58-88729d3e4ce9",
        "outputId": "cc6bea62-d4f5-45c0-ca6c-a10245e0a19e"
      },
      "outputs": [
        {
          "data": {
            "application/vnd.google.colaboratory.intrinsic+json": {
              "type": "string"
            },
            "text/plain": [
              "'What are some common techniques used with LLM agents?'"
            ]
          },
          "execution_count": 28,
          "metadata": {},
          "output_type": "execute_result"
        }
      ],
      "source": [
        "generate_queries_step_back = prompt | ChatGoogleGenerativeAI(model = \"gemini-1.5-pro\", temperature=0) | StrOutputParser()\n",
        "question = \"What is task decomposition for LLM agents?\"\n",
        "generate_queries_step_back.invoke({\"question\": question})"
      ]
    },
    {
      "cell_type": "code",
      "execution_count": 32,
      "id": "999445b0-d8a0-4208-9bb6-38610667a00b",
      "metadata": {
        "colab": {
          "base_uri": "https://localhost:8080/",
          "height": 105
        },
        "id": "999445b0-d8a0-4208-9bb6-38610667a00b",
        "outputId": "fcfe953d-bb57-47e7-ea38-6dd31c2aa16b"
      },
      "outputs": [
        {
          "data": {
            "application/vnd.google.colaboratory.intrinsic+json": {
              "type": "string"
            },
            "text/plain": [
              "'Task decomposition for LLM agents is the process of breaking down a complex task into smaller, more manageable subtasks. This is crucial for agents to effectively handle intricate problems that require multiple steps.  It allows the LLM to focus on more specific and achievable goals, ultimately leading to better overall performance and problem-solving capabilities.  There are several approaches to task decomposition:\\n\\n* **Chain of Thought (CoT):** This prompting technique encourages the LLM to \"think step by step,\" explicitly outlining the intermediate steps required to reach the final solution.  By decomposing the problem into smaller, simpler steps, CoT improves the LLM\\'s ability to reason through complex tasks and provides insights into its reasoning process.\\n\\n* **Tree of Thoughts (ToT):**  An extension of CoT, ToT explores multiple reasoning possibilities at each step. It generates a tree-like structure where each node represents a thought or a potential solution at a given step.  This allows the agent to explore different paths and evaluate the potential outcomes of each path, leading to a more robust and comprehensive solution.  The search process can be breadth-first (BFS) or depth-first (DFS), and each state can be evaluated by a classifier or majority vote.\\n\\n* **LLM-based Decomposition with Prompting:**  Simple prompts can guide the LLM to decompose tasks.  Examples include prompts like \"Steps for XYZ:\\\\n1.\" or \"What are the subgoals for achieving XYZ?\"\\n\\n* **Task-Specific Instructions:**  Providing task-specific instructions can also facilitate decomposition. For instance, the instruction \"Write a story outline\" helps the LLM decompose the task of writing a novel into outlining the plot, characters, and setting.\\n\\n* **Human Input:**  Humans can directly provide the decomposition of a task, specifying the subtasks and their order. This is particularly useful for complex tasks where the LLM might struggle to identify the appropriate subtasks on its own.\\n\\n\\nBy employing these methods, LLM agents can effectively tackle complex tasks by breaking them down into smaller, more manageable pieces, improving their problem-solving abilities and overall performance.'"
            ]
          },
          "execution_count": 32,
          "metadata": {},
          "output_type": "execute_result"
        }
      ],
      "source": [
        "# Response prompt\n",
        "response_prompt_template = \"\"\"You are an expert of world knowledge. I am going to ask you a question. Your response should be comprehensive and not contradicted with the following context if they are relevant. Otherwise, ignore them if they are not relevant.\n",
        "\n",
        "# {normal_context}\n",
        "# {step_back_context}\n",
        "\n",
        "# Original Question: {question}\n",
        "# Answer:\"\"\"\n",
        "response_prompt = ChatPromptTemplate.from_template(response_prompt_template)\n",
        "\n",
        "chain = (\n",
        "    {\n",
        "        # Retrieve context using the normal question\n",
        "        \"normal_context\": RunnableLambda(lambda x: x[\"question\"]) | retriever,\n",
        "        # Retrieve context using the step-back question\n",
        "        \"step_back_context\": generate_queries_step_back | retriever,\n",
        "        # Pass on the question\n",
        "        \"question\": lambda x: x[\"question\"],\n",
        "    }\n",
        "    | response_prompt\n",
        "    | ChatGoogleGenerativeAI(model = \"gemini-1.5-pro\", temperature=0)\n",
        "    | StrOutputParser()\n",
        ")\n",
        "\n",
        "chain.invoke({\"question\": question})"
      ]
    },
    {
      "cell_type": "code",
      "execution_count": 4,
      "id": "c2902575-bbbb-41a9-835b-9a24dc08261b",
      "metadata": {
        "colab": {
          "base_uri": "https://localhost:8080/",
          "height": 105
        },
        "id": "c2902575-bbbb-41a9-835b-9a24dc08261b",
        "outputId": "22693482-55e3-4475-e9b1-e4ea7edb2786"
      },
      "outputs": [
        {
          "data": {
            "application/vnd.google.colaboratory.intrinsic+json": {
              "type": "string"
            },
            "text/plain": [
              "\"**Task Decomposition for Large Language Models (LLMs)**\\n\\n**Introduction**\\n\\nLarge Language Models (LLMs) have demonstrated remarkable capabilities in various natural language processing tasks. However, they often struggle with complex tasks that require reasoning and decomposition. Task decomposition is a technique that breaks down a complex task into smaller, more manageable subtasks. This approach can enhance the performance of LLMs by providing them with a structured framework for solving problems.\\n\\n**Definition of Task Decomposition**\\n\\nTask decomposition involves identifying the individual steps or subtasks that are necessary to complete a given task. These subtasks can be either sequential or parallel, and they may require different skills or knowledge. By decomposing a task, we create a hierarchical structure that guides the LLM's reasoning process.\\n\\n**Benefits of Task Decomposition**\\n\\nTask decomposition offers several benefits for LLM agents:\\n\\n* **Improved Reasoning:** By breaking down a task into smaller steps, LLMs can focus on each subtask individually, reducing the cognitive load and improving their reasoning abilities.\\n* **Enhanced Accuracy:** Decomposition allows LLMs to identify and address potential errors or inconsistencies in their reasoning process, leading to more accurate results.\\n* **Increased Efficiency:** By dividing a task into smaller units, LLMs can allocate their resources more efficiently, reducing the time and computational power required to complete the task.\\n* **Generalization:** Task decomposition helps LLMs generalize their knowledge to new tasks by providing them with a framework for understanding and solving problems in a structured manner.\\n\\n**Methods for Task Decomposition**\\n\\nVarious methods can be used to decompose tasks for LLM agents:\\n\\n* **Hierarchical Decomposition:** This method involves creating a hierarchical structure of subtasks, where each subtask is a step towards completing the overall task.\\n* **Goal-Oriented Decomposition:** This approach focuses on identifying the goals of the task and decomposing it into subtasks that contribute to achieving those goals.\\n* **Means-Ends Analysis:** This method involves identifying the difference between the current state and the desired state of the task and decomposing it into subtasks that reduce this difference.\\n\\n**Conclusion**\\n\\nTask decomposition is a powerful technique that can significantly enhance the performance of LLM agents. By breaking down complex tasks into smaller, more manageable subtasks, LLMs can improve their reasoning abilities, accuracy, efficiency, and generalization capabilities. As LLM technology continues to advance, task decomposition will play an increasingly important role in unlocking their full potential.\""
            ]
          },
          "execution_count": 4,
          "metadata": {},
          "output_type": "execute_result"
        }
      ],
      "source": [
        "# HyDE document genration\n",
        "template = \"\"\"Please write a scientific paper passage to answer the question\n",
        "Question: {question}\n",
        "Passage:\"\"\"\n",
        "prompt_hyde = ChatPromptTemplate.from_template(template)\n",
        "\n",
        "generate_docs_for_retrieval = (\n",
        "    prompt_hyde | ChatGoogleGenerativeAI(model = \"gemini-1.0-pro\", temperature=0) | StrOutputParser()\n",
        ")\n",
        "\n",
        "# Run\n",
        "question = \"What is task decomposition for LLM agents?\"\n",
        "generate_docs_for_retrieval.invoke({\"question\":question})"
      ]
    },
    {
      "cell_type": "code",
      "execution_count": 5,
      "id": "d47587bb-23db-42a0-b087-beef9e95308b",
      "metadata": {
        "colab": {
          "base_uri": "https://localhost:8080/"
        },
        "id": "d47587bb-23db-42a0-b087-beef9e95308b",
        "outputId": "b8c22064-1b11-4144-f185-4db511903c83"
      },
      "outputs": [
        {
          "data": {
            "text/plain": [
              "[Document(metadata={'source': 'https://lilianweng.github.io/posts/2023-06-23-agent/'}, page_content='LLM Powered Autonomous Agents\\n    \\nDate: June 23, 2023  |  Estimated Reading Time: 31 min  |  Author: Lilian Weng\\n\\n\\nBuilding agents with LLM (large language model) as its core controller is a cool concept. Several proof-of-concepts demos, such as AutoGPT, GPT-Engineer and BabyAGI, serve as inspiring examples. The potentiality of LLM extends beyond generating well-written copies, stories, essays and programs; it can be framed as a powerful general problem solver.\\nAgent System Overview#\\nIn a LLM-powered autonomous agent system, LLM functions as the agent’s brain, complemented by several key components:\\n\\nPlanning\\n\\nSubgoal and decomposition: The agent breaks down large tasks into smaller, manageable subgoals, enabling efficient handling of complex tasks.\\nReflection and refinement: The agent can do self-criticism and self-reflection over past actions, learn from mistakes and refine them for future steps, thereby improving the quality of final results.\\n\\n\\nMemory'),\n",
              " Document(metadata={'source': 'https://lilianweng.github.io/posts/2023-06-23-agent/'}, page_content='Fig. 1. Overview of a LLM-powered autonomous agent system.\\nComponent One: Planning#\\nA complicated task usually involves many steps. An agent needs to know what they are and plan ahead.\\nTask Decomposition#\\nChain of thought (CoT; Wei et al. 2022) has become a standard prompting technique for enhancing model performance on complex tasks. The model is instructed to “think step by step” to utilize more test-time computation to decompose hard tasks into smaller and simpler steps. CoT transforms big tasks into multiple manageable tasks and shed lights into an interpretation of the model’s thinking process.\\nTree of Thoughts (Yao et al. 2023) extends CoT by exploring multiple reasoning possibilities at each step. It first decomposes the problem into multiple thought steps and generates multiple thoughts per step, creating a tree structure. The search process can be BFS (breadth-first search) or DFS (depth-first search) with each state evaluated by a classifier (via a prompt) or majority vote.\\nTask decomposition can be done (1) by LLM with simple prompting like \"Steps for XYZ.\\\\n1.\", \"What are the subgoals for achieving XYZ?\", (2) by using task-specific instructions; e.g. \"Write a story outline.\" for writing a novel, or (3) with human inputs.'),\n",
              " Document(metadata={'source': 'https://lilianweng.github.io/posts/2023-06-23-agent/'}, page_content='[4] Liu et al. “LLM+P: Empowering Large Language Models with Optimal Planning Proficiency” arXiv preprint arXiv:2304.11477 (2023).\\n[5] Yao et al. “ReAct: Synergizing reasoning and acting in language models.” ICLR 2023.\\n[6] Google Blog. “Announcing ScaNN: Efficient Vector Similarity Search” July 28, 2020.\\n[7] https://chat.openai.com/share/46ff149e-a4c7-4dd7-a800-fc4a642ea389\\n[8] Shinn & Labash. “Reflexion: an autonomous agent with dynamic memory and self-reflection” arXiv preprint arXiv:2303.11366 (2023).\\n[9] Laskin et al. “In-context Reinforcement Learning with Algorithm Distillation” ICLR 2023.\\n[10] Karpas et al. “MRKL Systems A modular, neuro-symbolic architecture that combines large language models, external knowledge sources and discrete reasoning.” arXiv preprint arXiv:2205.00445 (2022).'),\n",
              " Document(metadata={'source': 'https://lilianweng.github.io/posts/2023-06-23-agent/'}, page_content='The AI assistant can parse user input to several tasks: [{\"task\": task, \"id\", task_id, \"dep\": dependency_task_ids, \"args\": {\"text\": text, \"image\": URL, \"audio\": URL, \"video\": URL}}]. The \"dep\" field denotes the id of the previous task which generates a new resource that the current task relies on. A special tag \"-task_id\" refers to the generated text image, audio and video in the dependency task with id as task_id. The task MUST be selected from the following options: {{ Available Task List }}. There is a logical relationship between tasks, please note their order. If the user input can\\'t be parsed, you need to reply empty JSON. Here are several cases for your reference: {{ Demonstrations }}. The chat history is recorded as {{ Chat History }}. From this chat history, you can find the path of the user-mentioned resources for your task planning.\\n\\n(2) Model selection: LLM distributes the tasks to expert models, where the request is framed as a multiple-choice question. LLM is presented with a list of models to choose from. Due to the limited context length, task type based filtration is needed.\\nInstruction:')]"
            ]
          },
          "execution_count": 5,
          "metadata": {},
          "output_type": "execute_result"
        }
      ],
      "source": [
        "# Retrieve\n",
        "llm = ChatGoogleGenerativeAI(model = \"gemini-1.0-pro\", temperature=0)\n",
        "retrieval_chain = generate_docs_for_retrieval | retriever\n",
        "retrieved_docs = retrieval_chain.invoke({\"question\":question})\n",
        "retrieved_docs"
      ]
    },
    {
      "cell_type": "code",
      "execution_count": 6,
      "id": "604fcc36-a1d7-4096-99b5-50db30950fc5",
      "metadata": {
        "colab": {
          "base_uri": "https://localhost:8080/",
          "height": 35
        },
        "id": "604fcc36-a1d7-4096-99b5-50db30950fc5",
        "outputId": "917b5213-9b7e-4e2c-9b7d-ab034f4cc495"
      },
      "outputs": [
        {
          "data": {
            "application/vnd.google.colaboratory.intrinsic+json": {
              "type": "string"
            },
            "text/plain": [
              "'Task decomposition for LLM agents involves breaking down large tasks into smaller, manageable subgoals, enabling efficient handling of complex tasks.'"
            ]
          },
          "execution_count": 6,
          "metadata": {},
          "output_type": "execute_result"
        }
      ],
      "source": [
        "# RAG\n",
        "template = \"\"\"Answer the following question based on this context:\n",
        "\n",
        "{context}\n",
        "\n",
        "Question: {question}\n",
        "\"\"\"\n",
        "\n",
        "prompt = ChatPromptTemplate.from_template(template)\n",
        "\n",
        "final_rag_chain = (\n",
        "    prompt\n",
        "    | llm\n",
        "    | StrOutputParser()\n",
        ")\n",
        "\n",
        "final_rag_chain.invoke({\"context\":retrieved_docs,\"question\":question})"
      ]
    },
    {
      "cell_type": "code",
      "execution_count": null,
      "id": "270dbd23-6f16-4827-a401-75889f0e3506",
      "metadata": {
        "id": "270dbd23-6f16-4827-a401-75889f0e3506"
      },
      "outputs": [],
      "source": []
    }
  ],
  "metadata": {
    "accelerator": "GPU",
    "colab": {
      "gpuType": "T4",
      "provenance": []
    },
    "kernelspec": {
      "display_name": "Python 3",
      "name": "python3"
    },
    "language_info": {
      "codemirror_mode": {
        "name": "ipython",
        "version": 3
      },
      "file_extension": ".py",
      "mimetype": "text/x-python",
      "name": "python",
      "nbconvert_exporter": "python",
      "pygments_lexer": "ipython3",
      "version": "3.11.8"
    }
  },
  "nbformat": 4,
  "nbformat_minor": 5
}
